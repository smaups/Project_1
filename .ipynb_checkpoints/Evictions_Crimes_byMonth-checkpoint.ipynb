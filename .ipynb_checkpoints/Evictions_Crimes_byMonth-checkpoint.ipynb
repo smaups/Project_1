{
 "cells": [
  {
   "cell_type": "code",
   "execution_count": 43,
   "metadata": {},
   "outputs": [
    {
     "data": {
      "text/html": [
       "<div>\n",
       "<style scoped>\n",
       "    .dataframe tbody tr th:only-of-type {\n",
       "        vertical-align: middle;\n",
       "    }\n",
       "\n",
       "    .dataframe tbody tr th {\n",
       "        vertical-align: top;\n",
       "    }\n",
       "\n",
       "    .dataframe thead th {\n",
       "        text-align: right;\n",
       "    }\n",
       "</style>\n",
       "<table border=\"1\" class=\"dataframe\">\n",
       "  <thead>\n",
       "    <tr style=\"text-align: right;\">\n",
       "      <th></th>\n",
       "      <th>EXECUTED_DATE</th>\n",
       "      <th>RESIDENTIAL_COMMERCIAL_IND</th>\n",
       "      <th>BOROUGH</th>\n",
       "      <th>EVICTION_ZIP</th>\n",
       "      <th>EVICTION_ADDRESS</th>\n",
       "      <th>Month</th>\n",
       "      <th>Date</th>\n",
       "      <th>Year</th>\n",
       "    </tr>\n",
       "  </thead>\n",
       "  <tbody>\n",
       "    <tr>\n",
       "      <th>0</th>\n",
       "      <td>2/21/2018</td>\n",
       "      <td>Residential</td>\n",
       "      <td>MANHATTAN</td>\n",
       "      <td>10025</td>\n",
       "      <td>666 WEST END AVENUE</td>\n",
       "      <td>2</td>\n",
       "      <td>21</td>\n",
       "      <td>2018</td>\n",
       "    </tr>\n",
       "    <tr>\n",
       "      <th>1</th>\n",
       "      <td>11/28/2018</td>\n",
       "      <td>Residential</td>\n",
       "      <td>BRONX</td>\n",
       "      <td>10451</td>\n",
       "      <td>281 EAST 143RD  STREET</td>\n",
       "      <td>11</td>\n",
       "      <td>28</td>\n",
       "      <td>2018</td>\n",
       "    </tr>\n",
       "    <tr>\n",
       "      <th>2</th>\n",
       "      <td>4/16/2019</td>\n",
       "      <td>Residential</td>\n",
       "      <td>QUEENS</td>\n",
       "      <td>11364</td>\n",
       "      <td>224-24 UNION TURNPIKE</td>\n",
       "      <td>4</td>\n",
       "      <td>16</td>\n",
       "      <td>2019</td>\n",
       "    </tr>\n",
       "    <tr>\n",
       "      <th>3</th>\n",
       "      <td>2/23/2017</td>\n",
       "      <td>Residential</td>\n",
       "      <td>QUEENS</td>\n",
       "      <td>11692</td>\n",
       "      <td>613 BEACH 67 STREET</td>\n",
       "      <td>2</td>\n",
       "      <td>23</td>\n",
       "      <td>2017</td>\n",
       "    </tr>\n",
       "    <tr>\n",
       "      <th>4</th>\n",
       "      <td>11/23/2018</td>\n",
       "      <td>Residential</td>\n",
       "      <td>BROOKLYN</td>\n",
       "      <td>11201</td>\n",
       "      <td>388 BRIDGE STREET</td>\n",
       "      <td>11</td>\n",
       "      <td>23</td>\n",
       "      <td>2018</td>\n",
       "    </tr>\n",
       "  </tbody>\n",
       "</table>\n",
       "</div>"
      ],
      "text/plain": [
       "  EXECUTED_DATE RESIDENTIAL_COMMERCIAL_IND    BOROUGH  EVICTION_ZIP  \\\n",
       "0     2/21/2018                Residential  MANHATTAN         10025   \n",
       "1    11/28/2018                Residential      BRONX         10451   \n",
       "2     4/16/2019                Residential     QUEENS         11364   \n",
       "3     2/23/2017                Residential     QUEENS         11692   \n",
       "4    11/23/2018                Residential   BROOKLYN         11201   \n",
       "\n",
       "         EVICTION_ADDRESS  Month Date  Year  \n",
       "0     666 WEST END AVENUE      2   21  2018  \n",
       "1  281 EAST 143RD  STREET     11   28  2018  \n",
       "2   224-24 UNION TURNPIKE      4   16  2019  \n",
       "3     613 BEACH 67 STREET      2   23  2017  \n",
       "4       388 BRIDGE STREET     11   23  2018  "
      ]
     },
     "execution_count": 43,
     "metadata": {},
     "output_type": "execute_result"
    }
   ],
   "source": [
    "import matplotlib.pyplot as plt\n",
    "import pandas as pd\n",
    "import numpy as np\n",
    "\n",
    "evictions_data = pd.read_csv(\"Project_1/Evictions.clean.csv\")\n",
    "evictions_data.head()\n",
    "e_date = evictions_data['EXECUTED_DATE'].str.split(\"/\", n = 2, expand = True)\n",
    "e_date\n",
    "evictions_data[\"Month\"] = e_date[0]\n",
    "evictions_data[\"Date\"] = e_date[1]\n",
    "evictions_data[\"Year\"] = e_date[2]\n",
    "evictions_data[\"Month\"] = evictions_data[\"Month\"].apply(pd.to_numeric)\n",
    "evictions_data.head()"
   ]
  },
  {
   "cell_type": "code",
   "execution_count": 60,
   "metadata": {},
   "outputs": [
    {
     "data": {
      "text/html": [
       "<div>\n",
       "<style scoped>\n",
       "    .dataframe tbody tr th:only-of-type {\n",
       "        vertical-align: middle;\n",
       "    }\n",
       "\n",
       "    .dataframe tbody tr th {\n",
       "        vertical-align: top;\n",
       "    }\n",
       "\n",
       "    .dataframe thead th {\n",
       "        text-align: right;\n",
       "    }\n",
       "</style>\n",
       "<table border=\"1\" class=\"dataframe\">\n",
       "  <thead>\n",
       "    <tr style=\"text-align: right;\">\n",
       "      <th></th>\n",
       "      <th>Unnamed: 0</th>\n",
       "      <th>ARREST_DATE</th>\n",
       "      <th>LAW_CODE</th>\n",
       "      <th>AGE_GROUP</th>\n",
       "      <th>PERP_SEX</th>\n",
       "      <th>PERP_RACE</th>\n",
       "      <th>Latitude</th>\n",
       "      <th>Longitude</th>\n",
       "      <th>Zipcode</th>\n",
       "      <th>Month</th>\n",
       "      <th>Date</th>\n",
       "      <th>Year</th>\n",
       "    </tr>\n",
       "  </thead>\n",
       "  <tbody>\n",
       "    <tr>\n",
       "      <th>0</th>\n",
       "      <td>363285</td>\n",
       "      <td>08/21/2018</td>\n",
       "      <td>PL 1202000</td>\n",
       "      <td>&lt;18</td>\n",
       "      <td>M</td>\n",
       "      <td>BLACK</td>\n",
       "      <td>40.839592</td>\n",
       "      <td>-73.926330</td>\n",
       "      <td>10452.0</td>\n",
       "      <td>8</td>\n",
       "      <td>21</td>\n",
       "      <td>2018</td>\n",
       "    </tr>\n",
       "    <tr>\n",
       "      <th>1</th>\n",
       "      <td>112334</td>\n",
       "      <td>08/02/2017</td>\n",
       "      <td>PL 1401500</td>\n",
       "      <td>18-24</td>\n",
       "      <td>M</td>\n",
       "      <td>BLACK</td>\n",
       "      <td>40.757068</td>\n",
       "      <td>-73.999103</td>\n",
       "      <td>10018.0</td>\n",
       "      <td>8</td>\n",
       "      <td>02</td>\n",
       "      <td>2017</td>\n",
       "    </tr>\n",
       "    <tr>\n",
       "      <th>2</th>\n",
       "      <td>351363</td>\n",
       "      <td>09/08/2018</td>\n",
       "      <td>PL 1552500</td>\n",
       "      <td>18-24</td>\n",
       "      <td>M</td>\n",
       "      <td>WHITE HISPANIC</td>\n",
       "      <td>40.729082</td>\n",
       "      <td>-73.988788</td>\n",
       "      <td>10003.0</td>\n",
       "      <td>9</td>\n",
       "      <td>08</td>\n",
       "      <td>2018</td>\n",
       "    </tr>\n",
       "    <tr>\n",
       "      <th>3</th>\n",
       "      <td>108328</td>\n",
       "      <td>08/07/2017</td>\n",
       "      <td>LOC000000V</td>\n",
       "      <td>18-24</td>\n",
       "      <td>F</td>\n",
       "      <td>BLACK</td>\n",
       "      <td>40.690367</td>\n",
       "      <td>-73.989739</td>\n",
       "      <td>11201.0</td>\n",
       "      <td>8</td>\n",
       "      <td>07</td>\n",
       "      <td>2017</td>\n",
       "    </tr>\n",
       "    <tr>\n",
       "      <th>4</th>\n",
       "      <td>345794</td>\n",
       "      <td>09/17/2018</td>\n",
       "      <td>PL 1553005</td>\n",
       "      <td>&lt;18</td>\n",
       "      <td>M</td>\n",
       "      <td>BLACK HISPANIC</td>\n",
       "      <td>40.814853</td>\n",
       "      <td>-73.956313</td>\n",
       "      <td>10027.0</td>\n",
       "      <td>9</td>\n",
       "      <td>17</td>\n",
       "      <td>2018</td>\n",
       "    </tr>\n",
       "  </tbody>\n",
       "</table>\n",
       "</div>"
      ],
      "text/plain": [
       "   Unnamed: 0 ARREST_DATE    LAW_CODE AGE_GROUP PERP_SEX       PERP_RACE  \\\n",
       "0      363285  08/21/2018  PL 1202000       <18        M           BLACK   \n",
       "1      112334  08/02/2017  PL 1401500     18-24        M           BLACK   \n",
       "2      351363  09/08/2018  PL 1552500     18-24        M  WHITE HISPANIC   \n",
       "3      108328  08/07/2017  LOC000000V     18-24        F           BLACK   \n",
       "4      345794  09/17/2018  PL 1553005       <18        M  BLACK HISPANIC   \n",
       "\n",
       "    Latitude  Longitude  Zipcode  Month Date  Year  \n",
       "0  40.839592 -73.926330  10452.0      8   21  2018  \n",
       "1  40.757068 -73.999103  10018.0      8   02  2017  \n",
       "2  40.729082 -73.988788  10003.0      9   08  2018  \n",
       "3  40.690367 -73.989739  11201.0      8   07  2017  \n",
       "4  40.814853 -73.956313  10027.0      9   17  2018  "
      ]
     },
     "execution_count": 60,
     "metadata": {},
     "output_type": "execute_result"
    }
   ],
   "source": [
    "crime_data = pd.read_csv(\"Project_1/Finalcrime.csv\")\n",
    "crime_data.head()\n",
    "c_date = crime_data['ARREST_DATE'].str.split(\"/\", n = 2, expand = True)\n",
    "c_date\n",
    "crime_data[\"Month\"] = c_date[0]\n",
    "crime_data[\"Date\"] = c_date[1]\n",
    "crime_data[\"Year\"] = c_date[2]\n",
    "crime_data[\"Month\"] = crime_data[\"Month\"].apply(pd.to_numeric)\n",
    "crime_data.head()\n"
   ]
  },
  {
   "cell_type": "code",
   "execution_count": 58,
   "metadata": {},
   "outputs": [],
   "source": [
    "bins = [0,1.1,2.1,3.1,4.1,5.1,6.1,7.1,8.1,9.1,10.1,11.1,12.1]\n",
    "months_groups = [\"January\", \"February\", \"March\", \n",
    "          \"April\", \"May\", \"June\", \n",
    "          \"July\", \"August\", \"September\", \n",
    "          \"October\", \"November\", \"December\"]"
   ]
  },
  {
   "cell_type": "code",
   "execution_count": 64,
   "metadata": {},
   "outputs": [],
   "source": [
    "evictions_data['Months'] = pd.cut(evictions_data['Month'], bins, labels=months_groups)\n",
    "number_evicted = evictions_data.groupby('Months')['EXECUTED_DATE'].count()\n"
   ]
  },
  {
   "cell_type": "code",
   "execution_count": 83,
   "metadata": {},
   "outputs": [
    {
     "data": {
      "text/plain": [
       "Text(0, 0.5, 'Evictions')"
      ]
     },
     "execution_count": 83,
     "metadata": {},
     "output_type": "execute_result"
    },
    {
     "data": {
      "image/png": "[encoded data removed]",
      "text/plain": [
       "<Figure size 432x288 with 1 Axes>"
      ]
     },
     "metadata": {
      "needs_background": "light"
     },
     "output_type": "display_data"
    }
   ],
   "source": [
    "plt.bar(months, number_evicted/100, color='b', align=\"center\")\n",
    "plt.xticks(rotation=45)\n",
    "plt.title(\"Number of Evictions in NYC By Month\")\n",
    "plt.xlabel(\"Month\")\n",
    "plt.ylabel(\"Evictions\")"
   ]
  },
  {
   "cell_type": "code",
   "execution_count": 67,
   "metadata": {},
   "outputs": [],
   "source": [
    "crime_data['Months'] = pd.cut(crime_data['Month'], bins, labels=months_groups)\n",
    "crime_data.groupby('Months').count()\n",
    "number_crimes = crime_data.groupby('Months')['ARREST_DATE'].count()\n"
   ]
  },
  {
   "cell_type": "code",
   "execution_count": 84,
   "metadata": {},
   "outputs": [
    {
     "data": {
      "text/plain": [
       "Text(0, 0.5, 'Arrests')"
      ]
     },
     "execution_count": 84,
     "metadata": {},
     "output_type": "execute_result"
    },
    {
     "data": {
      "image/png": "[encoded data removed]",
      "text/plain": [
       "<Figure size 432x288 with 1 Axes>"
      ]
     },
     "metadata": {
      "needs_background": "light"
     },
     "output_type": "display_data"
    }
   ],
   "source": [
    "plt.bar(months, number_crimes, color='g', align=\"center\")\n",
    "plt.xticks(rotation=45)\n",
    "plt.title(\"Number of Arrests in NYC By Month\")\n",
    "plt.xlabel(\"Month\")\n",
    "plt.ylabel(\"Arrests\")"
   ]
  },
  {
   "cell_type": "code",
   "execution_count": null,
   "metadata": {},
   "outputs": [],
   "source": []
  }
 ],
 "metadata": {
  "kernelspec": {
   "display_name": "Python 3",
   "language": "python",
   "name": "python3"
  },
  "language_info": {
   "codemirror_mode": {
    "name": "ipython",
    "version": 3
   },
   "file_extension": ".py",
   "mimetype": "text/x-python",
   "name": "python",
   "nbconvert_exporter": "python",
   "pygments_lexer": "ipython3",
   "version": "3.7.3"
  }
 },
 "nbformat": 4,
 "nbformat_minor": 2
}
