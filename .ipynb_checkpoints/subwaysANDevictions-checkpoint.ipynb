{
 "cells": [
  {
   "cell_type": "code",
   "execution_count": 5,
   "metadata": {},
   "outputs": [],
   "source": [
    "#import dependencies, then subway and eviction csvs....\n",
    "\n",
    "# Dependencies\n",
    "import pandas as pd\n",
    "import os\n",
    "import csv\n",
    "import numpy as np\n",
    "import matplotlib.pyplot as plt\n"
   ]
  },
  {
   "cell_type": "code",
   "execution_count": 6,
   "metadata": {},
   "outputs": [],
   "source": [
    " # identify the paths to our CSV files with variables\n",
    "evictions_csv = \"Evictions.clean.csv\"\n",
    "subways_csv = \"Subway.csv\"\n",
    "\n",
    "# Read the data from both csvs into pandas\n",
    "evictions = pd.read_csv(evictions_csv)\n",
    "subways = pd.read_csv(subways_csv)"
   ]
  },
  {
   "cell_type": "code",
   "execution_count": 7,
   "metadata": {},
   "outputs": [
    {
     "data": {
      "text/html": [
       "<div>\n",
       "<style scoped>\n",
       "    .dataframe tbody tr th:only-of-type {\n",
       "        vertical-align: middle;\n",
       "    }\n",
       "\n",
       "    .dataframe tbody tr th {\n",
       "        vertical-align: top;\n",
       "    }\n",
       "\n",
       "    .dataframe thead th {\n",
       "        text-align: right;\n",
       "    }\n",
       "</style>\n",
       "<table border=\"1\" class=\"dataframe\">\n",
       "  <thead>\n",
       "    <tr style=\"text-align: right;\">\n",
       "      <th></th>\n",
       "      <th>EXECUTED_DATE</th>\n",
       "      <th>RESIDENTIAL_COMMERCIAL_IND</th>\n",
       "      <th>BOROUGH</th>\n",
       "      <th>Zipcode</th>\n",
       "      <th>EVICTION_ADDRESS</th>\n",
       "      <th>Unnamed: 5</th>\n",
       "    </tr>\n",
       "  </thead>\n",
       "  <tbody>\n",
       "    <tr>\n",
       "      <th>0</th>\n",
       "      <td>6/25/2018</td>\n",
       "      <td>Commercial</td>\n",
       "      <td>MANHATTAN</td>\n",
       "      <td>10001</td>\n",
       "      <td>1165 BROADWAY - ROOM 305</td>\n",
       "      <td>NaN</td>\n",
       "    </tr>\n",
       "    <tr>\n",
       "      <th>1</th>\n",
       "      <td>7/19/2018</td>\n",
       "      <td>Residential</td>\n",
       "      <td>MANHATTAN</td>\n",
       "      <td>10001</td>\n",
       "      <td>436 WEST 27TH DR</td>\n",
       "      <td>NaN</td>\n",
       "    </tr>\n",
       "    <tr>\n",
       "      <th>2</th>\n",
       "      <td>10/31/2017</td>\n",
       "      <td>Commercial</td>\n",
       "      <td>MANHATTAN</td>\n",
       "      <td>10001</td>\n",
       "      <td>370 8TH AVENUE  STORE</td>\n",
       "      <td>NaN</td>\n",
       "    </tr>\n",
       "    <tr>\n",
       "      <th>3</th>\n",
       "      <td>7/28/2017</td>\n",
       "      <td>Commercial</td>\n",
       "      <td>MANHATTAN</td>\n",
       "      <td>10001</td>\n",
       "      <td>541 WEST 29TH STREET</td>\n",
       "      <td>NaN</td>\n",
       "    </tr>\n",
       "    <tr>\n",
       "      <th>4</th>\n",
       "      <td>1/10/2019</td>\n",
       "      <td>Residential</td>\n",
       "      <td>MANHATTAN</td>\n",
       "      <td>10001</td>\n",
       "      <td>221 WEST 29TH STREET</td>\n",
       "      <td>NaN</td>\n",
       "    </tr>\n",
       "  </tbody>\n",
       "</table>\n",
       "</div>"
      ],
      "text/plain": [
       "  EXECUTED_DATE RESIDENTIAL_COMMERCIAL_IND    BOROUGH  Zipcode  \\\n",
       "0     6/25/2018                 Commercial  MANHATTAN    10001   \n",
       "1     7/19/2018                Residential  MANHATTAN    10001   \n",
       "2    10/31/2017                 Commercial  MANHATTAN    10001   \n",
       "3     7/28/2017                 Commercial  MANHATTAN    10001   \n",
       "4     1/10/2019                Residential  MANHATTAN    10001   \n",
       "\n",
       "           EVICTION_ADDRESS  Unnamed: 5  \n",
       "0  1165 BROADWAY - ROOM 305         NaN  \n",
       "1          436 WEST 27TH DR         NaN  \n",
       "2     370 8TH AVENUE  STORE         NaN  \n",
       "3      541 WEST 29TH STREET         NaN  \n",
       "4      221 WEST 29TH STREET         NaN  "
      ]
     },
     "execution_count": 7,
     "metadata": {},
     "output_type": "execute_result"
    }
   ],
   "source": [
    "evictions.head()"
   ]
  },
  {
   "cell_type": "code",
   "execution_count": 8,
   "metadata": {},
   "outputs": [
    {
     "data": {
      "text/html": [
       "<div>\n",
       "<style scoped>\n",
       "    .dataframe tbody tr th:only-of-type {\n",
       "        vertical-align: middle;\n",
       "    }\n",
       "\n",
       "    .dataframe tbody tr th {\n",
       "        vertical-align: top;\n",
       "    }\n",
       "\n",
       "    .dataframe thead th {\n",
       "        text-align: right;\n",
       "    }\n",
       "</style>\n",
       "<table border=\"1\" class=\"dataframe\">\n",
       "  <thead>\n",
       "    <tr style=\"text-align: right;\">\n",
       "      <th></th>\n",
       "      <th>Unnamed: 0</th>\n",
       "      <th>Line</th>\n",
       "      <th>Station_Name</th>\n",
       "      <th>Latitude</th>\n",
       "      <th>Longitude</th>\n",
       "      <th>Zipcode</th>\n",
       "    </tr>\n",
       "  </thead>\n",
       "  <tbody>\n",
       "    <tr>\n",
       "      <th>0</th>\n",
       "      <td>0</td>\n",
       "      <td>Astoria</td>\n",
       "      <td>Ditmars Blvd</td>\n",
       "      <td>40.775149</td>\n",
       "      <td>-73.912074</td>\n",
       "      <td>11105.0</td>\n",
       "    </tr>\n",
       "    <tr>\n",
       "      <th>1</th>\n",
       "      <td>1</td>\n",
       "      <td>Astoria</td>\n",
       "      <td>Ditmars Blvd</td>\n",
       "      <td>40.774810</td>\n",
       "      <td>-73.912151</td>\n",
       "      <td>11105.0</td>\n",
       "    </tr>\n",
       "    <tr>\n",
       "      <th>2</th>\n",
       "      <td>2</td>\n",
       "      <td>Astoria</td>\n",
       "      <td>Ditmars Blvd</td>\n",
       "      <td>40.775025</td>\n",
       "      <td>-73.911891</td>\n",
       "      <td>11105.0</td>\n",
       "    </tr>\n",
       "    <tr>\n",
       "      <th>3</th>\n",
       "      <td>3</td>\n",
       "      <td>Astoria</td>\n",
       "      <td>Ditmars Blvd</td>\n",
       "      <td>40.774938</td>\n",
       "      <td>-73.912337</td>\n",
       "      <td>11105.0</td>\n",
       "    </tr>\n",
       "    <tr>\n",
       "      <th>4</th>\n",
       "      <td>4</td>\n",
       "      <td>Astoria</td>\n",
       "      <td>Astoria Blvd-Hoyt Av</td>\n",
       "      <td>40.770313</td>\n",
       "      <td>-73.917978</td>\n",
       "      <td>11102.0</td>\n",
       "    </tr>\n",
       "  </tbody>\n",
       "</table>\n",
       "</div>"
      ],
      "text/plain": [
       "   Unnamed: 0     Line          Station_Name   Latitude  Longitude  Zipcode\n",
       "0           0  Astoria          Ditmars Blvd  40.775149 -73.912074  11105.0\n",
       "1           1  Astoria          Ditmars Blvd  40.774810 -73.912151  11105.0\n",
       "2           2  Astoria          Ditmars Blvd  40.775025 -73.911891  11105.0\n",
       "3           3  Astoria          Ditmars Blvd  40.774938 -73.912337  11105.0\n",
       "4           4  Astoria  Astoria Blvd-Hoyt Av  40.770313 -73.917978  11102.0"
      ]
     },
     "execution_count": 8,
     "metadata": {},
     "output_type": "execute_result"
    }
   ],
   "source": [
    "subways.head()"
   ]
  },
  {
   "cell_type": "code",
   "execution_count": 9,
   "metadata": {},
   "outputs": [
    {
     "data": {
      "text/html": [
       "<div>\n",
       "<style scoped>\n",
       "    .dataframe tbody tr th:only-of-type {\n",
       "        vertical-align: middle;\n",
       "    }\n",
       "\n",
       "    .dataframe tbody tr th {\n",
       "        vertical-align: top;\n",
       "    }\n",
       "\n",
       "    .dataframe thead th {\n",
       "        text-align: right;\n",
       "    }\n",
       "</style>\n",
       "<table border=\"1\" class=\"dataframe\">\n",
       "  <thead>\n",
       "    <tr style=\"text-align: right;\">\n",
       "      <th></th>\n",
       "      <th>EXECUTED_DATE</th>\n",
       "      <th>RESIDENTIAL_COMMERCIAL_IND</th>\n",
       "      <th>BOROUGH</th>\n",
       "      <th>Zipcode</th>\n",
       "      <th>EVICTION_ADDRESS</th>\n",
       "      <th>Unnamed: 5</th>\n",
       "      <th>Unnamed: 0</th>\n",
       "      <th>Line</th>\n",
       "      <th>Station_Name</th>\n",
       "      <th>Latitude</th>\n",
       "      <th>Longitude</th>\n",
       "    </tr>\n",
       "  </thead>\n",
       "  <tbody>\n",
       "    <tr>\n",
       "      <th>0</th>\n",
       "      <td>6/25/2018</td>\n",
       "      <td>Commercial</td>\n",
       "      <td>MANHATTAN</td>\n",
       "      <td>10001.0</td>\n",
       "      <td>1165 BROADWAY - ROOM 305</td>\n",
       "      <td>NaN</td>\n",
       "      <td>30.0</td>\n",
       "      <td>Broadway</td>\n",
       "      <td>28th St</td>\n",
       "      <td>40.745089</td>\n",
       "      <td>-73.988472</td>\n",
       "    </tr>\n",
       "    <tr>\n",
       "      <th>1</th>\n",
       "      <td>6/25/2018</td>\n",
       "      <td>Commercial</td>\n",
       "      <td>MANHATTAN</td>\n",
       "      <td>10001.0</td>\n",
       "      <td>1165 BROADWAY - ROOM 305</td>\n",
       "      <td>NaN</td>\n",
       "      <td>31.0</td>\n",
       "      <td>Broadway</td>\n",
       "      <td>28th St</td>\n",
       "      <td>40.745299</td>\n",
       "      <td>-73.988579</td>\n",
       "    </tr>\n",
       "    <tr>\n",
       "      <th>2</th>\n",
       "      <td>6/25/2018</td>\n",
       "      <td>Commercial</td>\n",
       "      <td>MANHATTAN</td>\n",
       "      <td>10001.0</td>\n",
       "      <td>1165 BROADWAY - ROOM 305</td>\n",
       "      <td>NaN</td>\n",
       "      <td>340.0</td>\n",
       "      <td>8 Avenue</td>\n",
       "      <td>34th St</td>\n",
       "      <td>40.752020</td>\n",
       "      <td>-73.993352</td>\n",
       "    </tr>\n",
       "    <tr>\n",
       "      <th>3</th>\n",
       "      <td>6/25/2018</td>\n",
       "      <td>Commercial</td>\n",
       "      <td>MANHATTAN</td>\n",
       "      <td>10001.0</td>\n",
       "      <td>1165 BROADWAY - ROOM 305</td>\n",
       "      <td>NaN</td>\n",
       "      <td>526.0</td>\n",
       "      <td>6 Avenue</td>\n",
       "      <td>34th St</td>\n",
       "      <td>40.749615</td>\n",
       "      <td>-73.988159</td>\n",
       "    </tr>\n",
       "    <tr>\n",
       "      <th>4</th>\n",
       "      <td>6/25/2018</td>\n",
       "      <td>Commercial</td>\n",
       "      <td>MANHATTAN</td>\n",
       "      <td>10001.0</td>\n",
       "      <td>1165 BROADWAY - ROOM 305</td>\n",
       "      <td>NaN</td>\n",
       "      <td>527.0</td>\n",
       "      <td>6 Avenue</td>\n",
       "      <td>34th St</td>\n",
       "      <td>40.749845</td>\n",
       "      <td>-73.988254</td>\n",
       "    </tr>\n",
       "  </tbody>\n",
       "</table>\n",
       "</div>"
      ],
      "text/plain": [
       "  EXECUTED_DATE RESIDENTIAL_COMMERCIAL_IND    BOROUGH  Zipcode  \\\n",
       "0     6/25/2018                 Commercial  MANHATTAN  10001.0   \n",
       "1     6/25/2018                 Commercial  MANHATTAN  10001.0   \n",
       "2     6/25/2018                 Commercial  MANHATTAN  10001.0   \n",
       "3     6/25/2018                 Commercial  MANHATTAN  10001.0   \n",
       "4     6/25/2018                 Commercial  MANHATTAN  10001.0   \n",
       "\n",
       "           EVICTION_ADDRESS  Unnamed: 5  Unnamed: 0      Line Station_Name  \\\n",
       "0  1165 BROADWAY - ROOM 305         NaN        30.0  Broadway      28th St   \n",
       "1  1165 BROADWAY - ROOM 305         NaN        31.0  Broadway      28th St   \n",
       "2  1165 BROADWAY - ROOM 305         NaN       340.0  8 Avenue      34th St   \n",
       "3  1165 BROADWAY - ROOM 305         NaN       526.0  6 Avenue      34th St   \n",
       "4  1165 BROADWAY - ROOM 305         NaN       527.0  6 Avenue      34th St   \n",
       "\n",
       "    Latitude  Longitude  \n",
       "0  40.745089 -73.988472  \n",
       "1  40.745299 -73.988579  \n",
       "2  40.752020 -73.993352  \n",
       "3  40.749615 -73.988159  \n",
       "4  40.749845 -73.988254  "
      ]
     },
     "execution_count": 9,
     "metadata": {},
     "output_type": "execute_result"
    }
   ],
   "source": [
    "#merge the two csvs on ZIP Code\n",
    "\n",
    "evic_subway = pd.merge(evictions, subways, on=\"Zipcode\", how = \"outer\")\n",
    "evic_subway.head()"
   ]
  },
  {
   "cell_type": "code",
   "execution_count": null,
   "metadata": {},
   "outputs": [],
   "source": [
    "# that merge is a mess. I have multiple subway entrances within each zip code; i'm not sure what the merge gave me,\n",
    "# but I want to take a diff approach. ..Figure out how many subway entrances there are in each zip code. "
   ]
  },
  {
   "cell_type": "code",
   "execution_count": 17,
   "metadata": {
    "scrolled": true
   },
   "outputs": [
    {
     "data": {
      "text/plain": [
       "11201.0    53\n",
       "11101.0    52\n",
       "10011.0    52\n",
       "10019.0    46\n",
       "10013.0    41\n",
       "Name: Zipcode, dtype: int64"
      ]
     },
     "execution_count": 17,
     "metadata": {},
     "output_type": "execute_result"
    }
   ],
   "source": [
    "# state_counts = usa_ufo_df[\"state\"].value_counts()\n",
    "entrances_by_zip = subways[\"Zipcode\"].value_counts()\n",
    "entrances_by_zip.head()"
   ]
  },
  {
   "cell_type": "code",
   "execution_count": 19,
   "metadata": {
    "scrolled": true
   },
   "outputs": [
    {
     "data": {
      "text/plain": [
       "10458    1449\n",
       "10467    1449\n",
       "10456    1342\n",
       "10453    1308\n",
       "10457    1170\n",
       "Name: Zipcode, dtype: int64"
      ]
     },
     "execution_count": 19,
     "metadata": {},
     "output_type": "execute_result"
    }
   ],
   "source": [
    "evictions_by_zip = evictions[\"Zipcode\"].value_counts()\n",
    "evictions_by_zip.head()"
   ]
  },
  {
   "cell_type": "code",
   "execution_count": 30,
   "metadata": {
    "scrolled": true
   },
   "outputs": [
    {
     "data": {
      "text/html": [
       "<div>\n",
       "<style scoped>\n",
       "    .dataframe tbody tr th:only-of-type {\n",
       "        vertical-align: middle;\n",
       "    }\n",
       "\n",
       "    .dataframe tbody tr th {\n",
       "        vertical-align: top;\n",
       "    }\n",
       "\n",
       "    .dataframe thead th {\n",
       "        text-align: right;\n",
       "    }\n",
       "</style>\n",
       "<table border=\"1\" class=\"dataframe\">\n",
       "  <thead>\n",
       "    <tr style=\"text-align: right;\">\n",
       "      <th></th>\n",
       "      <th>Zipcode</th>\n",
       "    </tr>\n",
       "  </thead>\n",
       "  <tbody>\n",
       "    <tr>\n",
       "      <th>10458</th>\n",
       "      <td>1449</td>\n",
       "    </tr>\n",
       "    <tr>\n",
       "      <th>10467</th>\n",
       "      <td>1449</td>\n",
       "    </tr>\n",
       "    <tr>\n",
       "      <th>10456</th>\n",
       "      <td>1342</td>\n",
       "    </tr>\n",
       "    <tr>\n",
       "      <th>10453</th>\n",
       "      <td>1308</td>\n",
       "    </tr>\n",
       "    <tr>\n",
       "      <th>10457</th>\n",
       "      <td>1170</td>\n",
       "    </tr>\n",
       "  </tbody>\n",
       "</table>\n",
       "</div>"
      ],
      "text/plain": [
       "       Zipcode\n",
       "10458     1449\n",
       "10467     1449\n",
       "10456     1342\n",
       "10453     1308\n",
       "10457     1170"
      ]
     },
     "execution_count": 30,
     "metadata": {},
     "output_type": "execute_result"
    }
   ],
   "source": [
    "evictions_by_zip_df = pd.DataFrame(evictions_by_zip)\n",
    "evictions_by_zip_df.head()"
   ]
  },
  {
   "cell_type": "code",
   "execution_count": 33,
   "metadata": {},
   "outputs": [
    {
     "data": {
      "text/html": [
       "<div>\n",
       "<style scoped>\n",
       "    .dataframe tbody tr th:only-of-type {\n",
       "        vertical-align: middle;\n",
       "    }\n",
       "\n",
       "    .dataframe tbody tr th {\n",
       "        vertical-align: top;\n",
       "    }\n",
       "\n",
       "    .dataframe thead th {\n",
       "        text-align: right;\n",
       "    }\n",
       "</style>\n",
       "<table border=\"1\" class=\"dataframe\">\n",
       "  <thead>\n",
       "    <tr style=\"text-align: right;\">\n",
       "      <th></th>\n",
       "      <th>Zipcode</th>\n",
       "    </tr>\n",
       "  </thead>\n",
       "  <tbody>\n",
       "    <tr>\n",
       "      <th>11201.0</th>\n",
       "      <td>53</td>\n",
       "    </tr>\n",
       "    <tr>\n",
       "      <th>11101.0</th>\n",
       "      <td>52</td>\n",
       "    </tr>\n",
       "    <tr>\n",
       "      <th>10011.0</th>\n",
       "      <td>52</td>\n",
       "    </tr>\n",
       "    <tr>\n",
       "      <th>10019.0</th>\n",
       "      <td>46</td>\n",
       "    </tr>\n",
       "    <tr>\n",
       "      <th>10013.0</th>\n",
       "      <td>41</td>\n",
       "    </tr>\n",
       "  </tbody>\n",
       "</table>\n",
       "</div>"
      ],
      "text/plain": [
       "         Zipcode\n",
       "11201.0       53\n",
       "11101.0       52\n",
       "10011.0       52\n",
       "10019.0       46\n",
       "10013.0       41"
      ]
     },
     "execution_count": 33,
     "metadata": {},
     "output_type": "execute_result"
    }
   ],
   "source": [
    "entrances_by_zip_df = pd.DataFrame(entrances_by_zip)\n",
    "entrances_by_zip_df.head()"
   ]
  },
  {
   "cell_type": "code",
   "execution_count": 35,
   "metadata": {},
   "outputs": [
    {
     "ename": "AttributeError",
     "evalue": "'Series' object has no attribute 'df'",
     "output_type": "error",
     "traceback": [
      "\u001b[1;31m-------------------------------------------------------------------\u001b[0m",
      "\u001b[1;31mAttributeError\u001b[0m                    Traceback (most recent call last)",
      "\u001b[1;32m<ipython-input-35-a23e78ac4159>\u001b[0m in \u001b[0;36m<module>\u001b[1;34m\u001b[0m\n\u001b[1;32m----> 1\u001b[1;33m \u001b[0munique_zips\u001b[0m \u001b[1;33m=\u001b[0m \u001b[0mevictions_by_zip\u001b[0m\u001b[1;33m.\u001b[0m\u001b[0mdf\u001b[0m\u001b[1;33m[\u001b[0m\u001b[1;34m\"Zipcodes\"\u001b[0m\u001b[1;33m]\u001b[0m\u001b[1;33m.\u001b[0m\u001b[0munique\u001b[0m\u001b[1;33m(\u001b[0m\u001b[1;33m)\u001b[0m\u001b[1;33m\u001b[0m\u001b[1;33m\u001b[0m\u001b[0m\n\u001b[0m",
      "\u001b[1;32m~\\Anaconda3\\lib\\site-packages\\pandas\\core\\generic.py\u001b[0m in \u001b[0;36m__getattr__\u001b[1;34m(self, name)\u001b[0m\n\u001b[0;32m   5065\u001b[0m             \u001b[1;32mif\u001b[0m \u001b[0mself\u001b[0m\u001b[1;33m.\u001b[0m\u001b[0m_info_axis\u001b[0m\u001b[1;33m.\u001b[0m\u001b[0m_can_hold_identifiers_and_holds_name\u001b[0m\u001b[1;33m(\u001b[0m\u001b[0mname\u001b[0m\u001b[1;33m)\u001b[0m\u001b[1;33m:\u001b[0m\u001b[1;33m\u001b[0m\u001b[1;33m\u001b[0m\u001b[0m\n\u001b[0;32m   5066\u001b[0m                 \u001b[1;32mreturn\u001b[0m \u001b[0mself\u001b[0m\u001b[1;33m[\u001b[0m\u001b[0mname\u001b[0m\u001b[1;33m]\u001b[0m\u001b[1;33m\u001b[0m\u001b[1;33m\u001b[0m\u001b[0m\n\u001b[1;32m-> 5067\u001b[1;33m             \u001b[1;32mreturn\u001b[0m \u001b[0mobject\u001b[0m\u001b[1;33m.\u001b[0m\u001b[0m__getattribute__\u001b[0m\u001b[1;33m(\u001b[0m\u001b[0mself\u001b[0m\u001b[1;33m,\u001b[0m \u001b[0mname\u001b[0m\u001b[1;33m)\u001b[0m\u001b[1;33m\u001b[0m\u001b[1;33m\u001b[0m\u001b[0m\n\u001b[0m\u001b[0;32m   5068\u001b[0m \u001b[1;33m\u001b[0m\u001b[0m\n\u001b[0;32m   5069\u001b[0m     \u001b[1;32mdef\u001b[0m \u001b[0m__setattr__\u001b[0m\u001b[1;33m(\u001b[0m\u001b[0mself\u001b[0m\u001b[1;33m,\u001b[0m \u001b[0mname\u001b[0m\u001b[1;33m,\u001b[0m \u001b[0mvalue\u001b[0m\u001b[1;33m)\u001b[0m\u001b[1;33m:\u001b[0m\u001b[1;33m\u001b[0m\u001b[1;33m\u001b[0m\u001b[0m\n",
      "\u001b[1;31mAttributeError\u001b[0m: 'Series' object has no attribute 'df'"
     ]
    }
   ],
   "source": [
    "unique_zips = evictions_by_zip.df[\"Zipcodes\"].unique()"
   ]
  },
  {
   "cell_type": "code",
   "execution_count": null,
   "metadata": {},
   "outputs": [],
   "source": []
  },
  {
   "cell_type": "code",
   "execution_count": null,
   "metadata": {},
   "outputs": [],
   "source": [
    "#build a chart showing evictions by zip code\n",
    "plt.bar(evictions_by_zip, entrances_by_zip, color='r', alpha=0.5, align=\"center\")\n",
    "# plt.title(\"Popularity of Programming Languages\")\n",
    "# plt.xlabel(\"Programming Language\")\n",
    "# plt.ylabel(\"Number of People Using Programming Languages\")"
   ]
  },
  {
   "cell_type": "code",
   "execution_count": null,
   "metadata": {},
   "outputs": [],
   "source": []
  }
 ],
 "metadata": {
  "kernelspec": {
   "display_name": "Python 3",
   "language": "python",
   "name": "python3"
  },
  "language_info": {
   "codemirror_mode": {
    "name": "ipython",
    "version": 3
   },
   "file_extension": ".py",
   "mimetype": "text/x-python",
   "name": "python",
   "nbconvert_exporter": "python",
   "pygments_lexer": "ipython3",
   "version": "3.7.3"
  }
 },
 "nbformat": 4,
 "nbformat_minor": 2
}
