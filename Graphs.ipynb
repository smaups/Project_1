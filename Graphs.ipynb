{
 "cells": [
  {
   "cell_type": "code",
   "execution_count": 51,
   "metadata": {},
   "outputs": [],
   "source": [
    "import matplotlib.pyplot as plt\n",
    "import pandas as pd\n",
    "import numpy as np\n"
   ]
  },
  {
   "cell_type": "code",
   "execution_count": 249,
   "metadata": {},
   "outputs": [],
   "source": [
    "burrows = pd.read_csv(\"zip_borough.csv\")\n",
    "burrowszip = burrows.rename(columns={\"zip\":\"Zipcode\"})"
   ]
  },
  {
   "cell_type": "code",
   "execution_count": 186,
   "metadata": {},
   "outputs": [
    {
     "data": {
      "text/plain": [
       "Zipcode\n",
       "0          3\n",
       "1000       1\n",
       "10001    300\n",
       "10002    253\n",
       "10003    125\n",
       "Name: EXECUTED_DATE, dtype: int64"
      ]
     },
     "execution_count": 186,
     "metadata": {},
     "output_type": "execute_result"
    }
   ],
   "source": [
    "\n",
    "evictions_data = pd.read_csv(\"Project_1/Evictions.clean.csv\")\n",
    "evictions_data.head()\n",
    "evictions_data1 = evictions_data.rename(columns={'EVICTION_ZIP':\"Zipcode\"})\n",
    "zip_eviction = evictions_data1.groupby('Zipcode').count()['EXECUTED_DATE']\n",
    "zip_eviction.head()"
   ]
  },
  {
   "cell_type": "code",
   "execution_count": 115,
   "metadata": {},
   "outputs": [
    {
     "data": {
      "text/html": [
       "<div>\n",
       "<style scoped>\n",
       "    .dataframe tbody tr th:only-of-type {\n",
       "        vertical-align: middle;\n",
       "    }\n",
       "\n",
       "    .dataframe tbody tr th {\n",
       "        vertical-align: top;\n",
       "    }\n",
       "\n",
       "    .dataframe thead th {\n",
       "        text-align: right;\n",
       "    }\n",
       "</style>\n",
       "<table border=\"1\" class=\"dataframe\">\n",
       "  <thead>\n",
       "    <tr style=\"text-align: right;\">\n",
       "      <th></th>\n",
       "      <th>ARREST_DATE</th>\n",
       "    </tr>\n",
       "    <tr>\n",
       "      <th>Zipcode</th>\n",
       "      <th></th>\n",
       "    </tr>\n",
       "  </thead>\n",
       "  <tbody>\n",
       "    <tr>\n",
       "      <th>10001.0</th>\n",
       "      <td>11</td>\n",
       "    </tr>\n",
       "    <tr>\n",
       "      <th>10002.0</th>\n",
       "      <td>10</td>\n",
       "    </tr>\n",
       "    <tr>\n",
       "      <th>10003.0</th>\n",
       "      <td>7</td>\n",
       "    </tr>\n",
       "    <tr>\n",
       "      <th>10004.0</th>\n",
       "      <td>1</td>\n",
       "    </tr>\n",
       "    <tr>\n",
       "      <th>10007.0</th>\n",
       "      <td>3</td>\n",
       "    </tr>\n",
       "  </tbody>\n",
       "</table>\n",
       "</div>"
      ],
      "text/plain": [
       "         ARREST_DATE\n",
       "Zipcode             \n",
       "10001.0           11\n",
       "10002.0           10\n",
       "10003.0            7\n",
       "10004.0            1\n",
       "10007.0            3"
      ]
     },
     "execution_count": 115,
     "metadata": {},
     "output_type": "execute_result"
    }
   ],
   "source": [
    "crime_data = pd.read_csv(\"Project_1/Finalcrime.csv\")\n",
    "crime_data.head()\n",
    "zip_crime = crime_data.groupby('Zipcode').count()['ARREST_DATE']\n",
    "zip_crime.to_frame().head()"
   ]
  },
  {
   "cell_type": "code",
   "execution_count": 180,
   "metadata": {},
   "outputs": [
    {
     "data": {
      "text/html": [
       "<div>\n",
       "<style scoped>\n",
       "    .dataframe tbody tr th:only-of-type {\n",
       "        vertical-align: middle;\n",
       "    }\n",
       "\n",
       "    .dataframe tbody tr th {\n",
       "        vertical-align: top;\n",
       "    }\n",
       "\n",
       "    .dataframe thead th {\n",
       "        text-align: right;\n",
       "    }\n",
       "</style>\n",
       "<table border=\"1\" class=\"dataframe\">\n",
       "  <thead>\n",
       "    <tr style=\"text-align: right;\">\n",
       "      <th></th>\n",
       "      <th>ACRES</th>\n",
       "    </tr>\n",
       "    <tr>\n",
       "      <th>Zipcode</th>\n",
       "      <th></th>\n",
       "    </tr>\n",
       "  </thead>\n",
       "  <tbody>\n",
       "    <tr>\n",
       "      <th>10001</th>\n",
       "      <td>3.337037</td>\n",
       "    </tr>\n",
       "    <tr>\n",
       "      <th>10002</th>\n",
       "      <td>50.239190</td>\n",
       "    </tr>\n",
       "    <tr>\n",
       "      <th>10004</th>\n",
       "      <td>25.518875</td>\n",
       "    </tr>\n",
       "    <tr>\n",
       "      <th>10007</th>\n",
       "      <td>14.032170</td>\n",
       "    </tr>\n",
       "    <tr>\n",
       "      <th>10011</th>\n",
       "      <td>14.149388</td>\n",
       "    </tr>\n",
       "  </tbody>\n",
       "</table>\n",
       "</div>"
      ],
      "text/plain": [
       "             ACRES\n",
       "Zipcode           \n",
       "10001     3.337037\n",
       "10002    50.239190\n",
       "10004    25.518875\n",
       "10007    14.032170\n",
       "10011    14.149388"
      ]
     },
     "execution_count": 180,
     "metadata": {},
     "output_type": "execute_result"
    }
   ],
   "source": [
    "\n",
    "parks_data = pd.read_csv('Project_1/Parks.csv')\n",
    "\n",
    "parks1 = parks_data.rename(columns={'ZIPCODE':\"Zipcode\"})\n",
    "\n",
    "\n",
    "zip_park = parks1.groupby('Zipcode').sum()['ACRES']\n",
    "zip_park.to_frame().head()"
   ]
  },
  {
   "cell_type": "code",
   "execution_count": 117,
   "metadata": {},
   "outputs": [
    {
     "data": {
      "text/html": [
       "<div>\n",
       "<style scoped>\n",
       "    .dataframe tbody tr th:only-of-type {\n",
       "        vertical-align: middle;\n",
       "    }\n",
       "\n",
       "    .dataframe tbody tr th {\n",
       "        vertical-align: top;\n",
       "    }\n",
       "\n",
       "    .dataframe thead th {\n",
       "        text-align: right;\n",
       "    }\n",
       "</style>\n",
       "<table border=\"1\" class=\"dataframe\">\n",
       "  <thead>\n",
       "    <tr style=\"text-align: right;\">\n",
       "      <th></th>\n",
       "      <th>Line</th>\n",
       "    </tr>\n",
       "    <tr>\n",
       "      <th>Zipcode</th>\n",
       "      <th></th>\n",
       "    </tr>\n",
       "  </thead>\n",
       "  <tbody>\n",
       "    <tr>\n",
       "      <th>10001.0</th>\n",
       "      <td>36</td>\n",
       "    </tr>\n",
       "    <tr>\n",
       "      <th>10002.0</th>\n",
       "      <td>17</td>\n",
       "    </tr>\n",
       "    <tr>\n",
       "      <th>10003.0</th>\n",
       "      <td>28</td>\n",
       "    </tr>\n",
       "    <tr>\n",
       "      <th>10004.0</th>\n",
       "      <td>20</td>\n",
       "    </tr>\n",
       "    <tr>\n",
       "      <th>10005.0</th>\n",
       "      <td>9</td>\n",
       "    </tr>\n",
       "  </tbody>\n",
       "</table>\n",
       "</div>"
      ],
      "text/plain": [
       "         Line\n",
       "Zipcode      \n",
       "10001.0    36\n",
       "10002.0    17\n",
       "10003.0    28\n",
       "10004.0    20\n",
       "10005.0     9"
      ]
     },
     "execution_count": 117,
     "metadata": {},
     "output_type": "execute_result"
    }
   ],
   "source": [
    "\n",
    "subway_data = pd.read_csv(\"Project_1/DABCHW\\Subway.csv\")\n",
    "subway_data\n",
    "subway_data.head()\n",
    "zip_subway = subway_data.groupby('Zipcode').count()['Line']\n",
    "zip_subway.to_frame().head()\n"
   ]
  },
  {
   "cell_type": "code",
   "execution_count": 252,
   "metadata": {
    "scrolled": true
   },
   "outputs": [
    {
     "data": {
      "text/html": [
       "<div>\n",
       "<style scoped>\n",
       "    .dataframe tbody tr th:only-of-type {\n",
       "        vertical-align: middle;\n",
       "    }\n",
       "\n",
       "    .dataframe tbody tr th {\n",
       "        vertical-align: top;\n",
       "    }\n",
       "\n",
       "    .dataframe thead th {\n",
       "        text-align: right;\n",
       "    }\n",
       "</style>\n",
       "<table border=\"1\" class=\"dataframe\">\n",
       "  <thead>\n",
       "    <tr style=\"text-align: right;\">\n",
       "      <th></th>\n",
       "      <th>ARREST_DATE</th>\n",
       "      <th>Line</th>\n",
       "      <th>ACRES</th>\n",
       "      <th>EXECUTED_DATE</th>\n",
       "    </tr>\n",
       "    <tr>\n",
       "      <th>Zipcode</th>\n",
       "      <th></th>\n",
       "      <th></th>\n",
       "      <th></th>\n",
       "      <th></th>\n",
       "    </tr>\n",
       "  </thead>\n",
       "  <tbody>\n",
       "    <tr>\n",
       "      <th>10001.0</th>\n",
       "      <td>11.0</td>\n",
       "      <td>36.0</td>\n",
       "      <td>3.337037</td>\n",
       "      <td>300.0</td>\n",
       "    </tr>\n",
       "    <tr>\n",
       "      <th>10002.0</th>\n",
       "      <td>10.0</td>\n",
       "      <td>17.0</td>\n",
       "      <td>50.239190</td>\n",
       "      <td>253.0</td>\n",
       "    </tr>\n",
       "    <tr>\n",
       "      <th>10004.0</th>\n",
       "      <td>1.0</td>\n",
       "      <td>20.0</td>\n",
       "      <td>25.518875</td>\n",
       "      <td>17.0</td>\n",
       "    </tr>\n",
       "    <tr>\n",
       "      <th>10007.0</th>\n",
       "      <td>3.0</td>\n",
       "      <td>32.0</td>\n",
       "      <td>14.032170</td>\n",
       "      <td>19.0</td>\n",
       "    </tr>\n",
       "    <tr>\n",
       "      <th>10011.0</th>\n",
       "      <td>4.0</td>\n",
       "      <td>52.0</td>\n",
       "      <td>14.149388</td>\n",
       "      <td>154.0</td>\n",
       "    </tr>\n",
       "  </tbody>\n",
       "</table>\n",
       "</div>"
      ],
      "text/plain": [
       "         ARREST_DATE  Line      ACRES  EXECUTED_DATE\n",
       "Zipcode                                             \n",
       "10001.0         11.0  36.0   3.337037          300.0\n",
       "10002.0         10.0  17.0  50.239190          253.0\n",
       "10004.0          1.0  20.0  25.518875           17.0\n",
       "10007.0          3.0  32.0  14.032170           19.0\n",
       "10011.0          4.0  52.0  14.149388          154.0"
      ]
     },
     "execution_count": 252,
     "metadata": {},
     "output_type": "execute_result"
    }
   ],
   "source": [
    "crime_subwaymerge = pd.merge(zip_crime, zip_subway, how=\"outer\", on='Zipcode')\n",
    "crime_subwaymerge.head()\n",
    "\n",
    "Park_Crime_Subway = pd.merge(crime_subwaymerge, zip_park, how=\"outer\", on='Zipcode')\n",
    "Park_Crime_Subway.head()\n",
    "\n",
    "totalmerge1 = pd.merge(Park_Crime_Subway, zip_eviction, how=\"outer\", on=\"Zipcode\")\n",
    "totalmerge1['ARREST_DATE'] = totalmerge1['ARREST_DATE'].apply(pd.to_numeric)\n",
    "totalmerge1.dropna().head()\n"
   ]
  },
  {
   "cell_type": "code",
   "execution_count": 261,
   "metadata": {},
   "outputs": [
    {
     "data": {
      "text/html": [
       "<div>\n",
       "<style scoped>\n",
       "    .dataframe tbody tr th:only-of-type {\n",
       "        vertical-align: middle;\n",
       "    }\n",
       "\n",
       "    .dataframe tbody tr th {\n",
       "        vertical-align: top;\n",
       "    }\n",
       "\n",
       "    .dataframe thead th {\n",
       "        text-align: right;\n",
       "    }\n",
       "</style>\n",
       "<table border=\"1\" class=\"dataframe\">\n",
       "  <thead>\n",
       "    <tr style=\"text-align: right;\">\n",
       "      <th></th>\n",
       "      <th>Zipcode</th>\n",
       "      <th>ARREST_DATE</th>\n",
       "      <th>Line</th>\n",
       "      <th>ACRES</th>\n",
       "      <th>EXECUTED_DATE</th>\n",
       "      <th>borough</th>\n",
       "    </tr>\n",
       "  </thead>\n",
       "  <tbody>\n",
       "    <tr>\n",
       "      <th>0</th>\n",
       "      <td>10001.0</td>\n",
       "      <td>11.0</td>\n",
       "      <td>36.0</td>\n",
       "      <td>3.337037</td>\n",
       "      <td>300.0</td>\n",
       "      <td>Manhattan</td>\n",
       "    </tr>\n",
       "    <tr>\n",
       "      <th>1</th>\n",
       "      <td>10002.0</td>\n",
       "      <td>10.0</td>\n",
       "      <td>17.0</td>\n",
       "      <td>50.239190</td>\n",
       "      <td>253.0</td>\n",
       "      <td>Manhattan</td>\n",
       "    </tr>\n",
       "    <tr>\n",
       "      <th>3</th>\n",
       "      <td>10004.0</td>\n",
       "      <td>1.0</td>\n",
       "      <td>20.0</td>\n",
       "      <td>25.518875</td>\n",
       "      <td>17.0</td>\n",
       "      <td>Manhattan</td>\n",
       "    </tr>\n",
       "    <tr>\n",
       "      <th>4</th>\n",
       "      <td>10007.0</td>\n",
       "      <td>3.0</td>\n",
       "      <td>32.0</td>\n",
       "      <td>14.032170</td>\n",
       "      <td>19.0</td>\n",
       "      <td>Manhattan</td>\n",
       "    </tr>\n",
       "    <tr>\n",
       "      <th>7</th>\n",
       "      <td>10011.0</td>\n",
       "      <td>4.0</td>\n",
       "      <td>52.0</td>\n",
       "      <td>14.149388</td>\n",
       "      <td>154.0</td>\n",
       "      <td>Manhattan</td>\n",
       "    </tr>\n",
       "  </tbody>\n",
       "</table>\n",
       "</div>"
      ],
      "text/plain": [
       "   Zipcode  ARREST_DATE  Line      ACRES  EXECUTED_DATE    borough\n",
       "0  10001.0         11.0  36.0   3.337037          300.0  Manhattan\n",
       "1  10002.0         10.0  17.0  50.239190          253.0  Manhattan\n",
       "3  10004.0          1.0  20.0  25.518875           17.0  Manhattan\n",
       "4  10007.0          3.0  32.0  14.032170           19.0  Manhattan\n",
       "7  10011.0          4.0  52.0  14.149388          154.0  Manhattan"
      ]
     },
     "execution_count": 261,
     "metadata": {},
     "output_type": "execute_result"
    }
   ],
   "source": [
    "totalmerge = pd.merge(totalmerge1, burrowszip, how='outer', on='Zipcode')\n",
    "totalmerge.dropna().head()"
   ]
  },
  {
   "cell_type": "code",
   "execution_count": 267,
   "metadata": {},
   "outputs": [
    {
     "ename": "TypeError",
     "evalue": "'DataFrame' object is not callable",
     "output_type": "error",
     "traceback": [
      "\u001b[0;31m---------------------------------------------------------------------------\u001b[0m",
      "\u001b[0;31mTypeError\u001b[0m                                 Traceback (most recent call last)",
      "\u001b[0;32m<ipython-input-267-0c541a494579>\u001b[0m in \u001b[0;36m<module>\u001b[0;34m\u001b[0m\n\u001b[0;32m----> 1\u001b[0;31m \u001b[0mtotalmerge\u001b[0m\u001b[0;34m(\u001b[0m\u001b[0;34m'borough'\u001b[0m\u001b[0;34m)\u001b[0m\u001b[0;34m.\u001b[0m\u001b[0msum\u001b[0m\u001b[0;34m(\u001b[0m\u001b[0;34m)\u001b[0m\u001b[0;34m[\u001b[0m\u001b[0;34m\"Manhattan\"\u001b[0m\u001b[0;34m]\u001b[0m\u001b[0;34m\u001b[0m\u001b[0;34m\u001b[0m\u001b[0m\n\u001b[0m",
      "\u001b[0;31mTypeError\u001b[0m: 'DataFrame' object is not callable"
     ]
    }
   ],
   "source": []
  },
  {
   "cell_type": "code",
   "execution_count": 239,
   "metadata": {
    "scrolled": true
   },
   "outputs": [],
   "source": [
    "\n",
    "# parkseviction = plt.scatter(zip_subway, zip_park, marker='o', facecolor='coral', edgecolor='black', s=zip_crime, alpha=.75)\n",
    "# zip_park.plot.scatter(x, y, s=None, c=None)\n",
    "\n",
    "# ax1 = totalmerge.plot.scatter(x=\"EXECUTED_DATE\", y='Line', marker='o', facecolor='coral', s=\"ARREST_DATE\", edgecolor='black', alpha=.75)\n",
    "\n",
    "# plt.xlabel(\"Evictions\")\n",
    "# plt.ylabel(\"Subway Enterances\")\n",
    "# plt.title(\"Number of Evictions and Subway Entrances in a Zipcode\")\n"
   ]
  },
  {
   "cell_type": "code",
   "execution_count": 270,
   "metadata": {
    "scrolled": true
   },
   "outputs": [
    {
     "ename": "SyntaxError",
     "evalue": "invalid syntax (<ipython-input-270-2a415c8527b1>, line 1)",
     "output_type": "error",
     "traceback": [
      "\u001b[0;36m  File \u001b[0;32m\"<ipython-input-270-2a415c8527b1>\"\u001b[0;36m, line \u001b[0;32m1\u001b[0m\n\u001b[0;31m    plt.scatter(x=(totalmerge.groupby.('borough')['Manhattan'])['EXECUTED_DATE'], y=(totalmerge.groupby.('borough')['Manhattan'])['Line'], marker='o', facecolor='coral', s=(totalmerge.groupby.('borough')['Manhattan'])[\"ARREST_DATE\"]*20, edgecolor='black', alpha=.75)\u001b[0m\n\u001b[0m                                      ^\u001b[0m\n\u001b[0;31mSyntaxError\u001b[0m\u001b[0;31m:\u001b[0m invalid syntax\n"
     ]
    }
   ],
   "source": [
    "plt.scatter(x=(totalmerge.groupby.('borough')['Manhattan'])['EXECUTED_DATE'], y=(totalmerge.groupby.('borough')['Manhattan'])['Line'], marker='o', facecolor='coral', s=(totalmerge.groupby.('borough')['Manhattan'])[\"ARREST_DATE\"]*20, edgecolor='black', alpha=.75)\n",
    "\n",
    "plt.xlabel(\"Evictions\")\n",
    "plt.ylabel(\"Subway Enterances\")\n",
    "plt.title(\"Number of Evictions and Subway Entrances in a Zipcode\")"
   ]
  },
  {
   "cell_type": "code",
   "execution_count": 240,
   "metadata": {
    "scrolled": true
   },
   "outputs": [
    {
     "data": {
      "text/plain": [
       "Text(0.5, 1.0, 'Number of Evictions and Acres of Parks in a Zipcode')"
      ]
     },
     "execution_count": 240,
     "metadata": {},
     "output_type": "execute_result"
    },
    {
     "data": {
      "image/png": "[encoded data removed]",
      "text/plain": [
       "<Figure size 432x288 with 1 Axes>"
      ]
     },
     "metadata": {
      "needs_background": "light"
     },
     "output_type": "display_data"
    }
   ],
   "source": [
    "plt.scatter(x=totalmerge[\"EXECUTED_DATE\"], y=totalmerge['ACRES'], marker='o', cmap='coral', s=totalmerge[\"ARREST_DATE\"]*20, edgecolor='black')\n",
    "plt.xlabel(\"Evictions\")\n",
    "plt.ylabel(\"Acres of Parks\")\n",
    "plt.title(\"Number of Evictions and Acres of Parks in a Zipcode\")"
   ]
  },
  {
   "cell_type": "code",
   "execution_count": 222,
   "metadata": {},
   "outputs": [
    {
     "data": {
      "text/plain": [
       "<matplotlib.collections.PathCollection at 0x11cf92f98>"
      ]
     },
     "execution_count": 222,
     "metadata": {},
     "output_type": "execute_result"
    },
    {
     "data": {
      "image/png": "[encoded data removed]",
      "text/plain": [
       "<Figure size 432x288 with 1 Axes>"
      ]
     },
     "metadata": {
      "needs_background": "light"
     },
     "output_type": "display_data"
    }
   ],
   "source": [
    "plt.scatter(x=totalmerge[\"EXECUTED_DATE\"], y=totalmerge['Line'], marker='o', facecolor='coral', s=totalmerge[\"ACRES\"], edgecolor='black', alpha=.75)"
   ]
  },
  {
   "cell_type": "code",
   "execution_count": 195,
   "metadata": {},
   "outputs": [
    {
     "data": {
      "text/plain": [
       "Text(0.5, 1.0, 'Number of Evictions and Acres of Parks in a Zipcode')"
      ]
     },
     "execution_count": 195,
     "metadata": {},
     "output_type": "execute_result"
    },
    {
     "data": {
      "image/png": "[encoded data removed]",
      "text/plain": [
       "<Figure size 432x288 with 2 Axes>"
      ]
     },
     "metadata": {
      "needs_background": "light"
     },
     "output_type": "display_data"
    }
   ],
   "source": [
    "ax2 = totalmerge.plot.scatter(x=\"EXECUTED_DATE\", y='ACRES', c='ARREST_DATE')\n",
    "plt.xlabel(\"Evictions\")\n",
    "plt.ylabel(\"Acres of Parks\")\n",
    "plt.title(\"Number of Evictions and Acres of Parks in a Zipcode\")"
   ]
  },
  {
   "cell_type": "code",
   "execution_count": 237,
   "metadata": {},
   "outputs": [
    {
     "data": {
      "text/plain": [
       "[<matplotlib.lines.Line2D at 0x11de9eda0>]"
      ]
     },
     "execution_count": 237,
     "metadata": {},
     "output_type": "execute_result"
    },
    {
     "data": {
      "image/png": "[encoded data removed]",
      "text/plain": [
       "<Figure size 432x288 with 1 Axes>"
      ]
     },
     "metadata": {
      "needs_background": "light"
     },
     "output_type": "display_data"
    }
   ],
   "source": [
    "plt.plot(totalmerge['EXECUTED_DATE'], totalmerge['ARREST_DATE'], linewidth=0, marker=\"o\", color=\"blue\")"
   ]
  },
  {
   "cell_type": "code",
   "execution_count": null,
   "metadata": {},
   "outputs": [],
   "source": []
  }
 ],
 "metadata": {
  "kernelspec": {
   "display_name": "Python 3",
   "language": "python",
   "name": "python3"
  },
  "language_info": {
   "codemirror_mode": {
    "name": "ipython",
    "version": 3
   },
   "file_extension": ".py",
   "mimetype": "text/x-python",
   "name": "python",
   "nbconvert_exporter": "python",
   "pygments_lexer": "ipython3",
   "version": "3.6.8"
  }
 },
 "nbformat": 4,
 "nbformat_minor": 2
}
